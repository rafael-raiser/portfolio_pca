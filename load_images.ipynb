{
 "cells": [
  {
   "cell_type": "markdown",
   "id": "d502387a",
   "metadata": {},
   "source": [
    "# Loads images and randomnly selects sample and test sets"
   ]
  },
  {
   "cell_type": "code",
   "execution_count": 1,
   "id": "2199b395",
   "metadata": {},
   "outputs": [],
   "source": [
    "# Number of images\n",
    "n_img=17736\n",
    "\n",
    "# Loads the numpy files containing images and labels\n",
    "images = np.load(\"G10_DECals_images.npy\")\n",
    "labels = np.load(\"G10_DECals_labels.npy\")"
   ]
  },
  {
   "cell_type": "code",
   "execution_count": 2,
   "id": "c972a7d6",
   "metadata": {},
   "outputs": [],
   "source": [
    "# A function made to select a random number of images to the test set and to the sample set\n",
    "\n",
    "def randint2(sample_ini,sample_fin,sample_size,test_ini,test_fin,test_size):\n",
    "    x=np.random.randint(sample_ini,sample_fin,sample_size)\n",
    "    y=np.random.randint(test_ini,test_fin,test_size)\n",
    "    for n in y:\n",
    "        if n in x:\n",
    "            y=np.random.randint(test_ini,test_fin,test_size)\n",
    "            \n",
    "    return x,y"
   ]
  },
  {
   "cell_type": "code",
   "execution_count": 3,
   "id": "4c698291",
   "metadata": {
    "scrolled": true
   },
   "outputs": [],
   "source": [
    "# N images from each class must be selected to construct the eigenspace\n",
    "n_test=20\n",
    "n_eig=n_img-n_test\n",
    "\n",
    "# Number of lateral pixels of the reduced images\n",
    "n_red=50\n",
    "\n",
    "# Sorts indexes for test and sample sets\n",
    "sample_idx,test_idx=randint2(0,n_img,n_eig,0,n_img,n_test)\n",
    "\n",
    "from PIL import Image\n",
    "\n",
    "# Loads the imagens and stores them into matrices\n",
    "sample_set=np.zeros((n_eig,3*n_red**2))\n",
    "test_set=np.zeros((n_test,3*n_red**2))\n",
    "for n in range(n_eig):\n",
    "    img=Image.fromarray(images[sample_idx[n],:,:,:])\n",
    "    img=img.resize((n_red,n_red))\n",
    "    arr0=np.array(img)\n",
    "    arr1=arr0.reshape(1,arr0.size)\n",
    "    sample_set[n,:]=arr1\n",
    "for n in range(n_test):\n",
    "    img=Image.fromarray(images[test_idx[n],:,:,:])\n",
    "    img=img.resize((n_red,n_red))\n",
    "    arr0=np.array(img)\n",
    "    arr1=arr0.reshape(1,arr0.size)\n",
    "    test_set[n,:]=arr1\n",
    "\n",
    "# For further identification of the galaxy type\n",
    "sample_set_idx=labels[sample_idx]\n",
    "test_set_idx=labels[test_idx]\n",
    "\n",
    "# Saves sample and test matrices and arrays containing labels\n",
    "\n",
    "np.save('sample_n='+str(n_eig)+'_dim='+ str(n_red)+ '.npy',sample_set)\n",
    "np.save('test_n='+str(n_test)+'_dim='+ str(n_red)+ '.npy',test_set)\n",
    "np.save('sample_labels.npy',sample_set_idx)\n",
    "np.save('test_labels.npy',test_set_idx)"
   ]
  }
 ],
 "metadata": {
  "kernelspec": {
   "display_name": "Python 3 (ipykernel)",
   "language": "python",
   "name": "python3"
  },
  "language_info": {
   "codemirror_mode": {
    "name": "ipython",
    "version": 3
   },
   "file_extension": ".py",
   "mimetype": "text/x-python",
   "name": "python",
   "nbconvert_exporter": "python",
   "pygments_lexer": "ipython3",
   "version": "3.10.12"
  }
 },
 "nbformat": 4,
 "nbformat_minor": 5
}
