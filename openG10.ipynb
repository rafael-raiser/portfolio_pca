{
 "cells": [
  {
   "cell_type": "markdown",
   "id": "fa6bfc65",
   "metadata": {},
   "source": [
    "# Turning the galaxy images and respective labels into arrays and save them in npy format\n",
    "\n",
    "We're going to study the dataset Galaxy 10 DECals (https://astronn.readthedocs.io/en/latest/galaxy10.html), containing 17736 256x256 pixels colored galaxy images (g, r and z band) separated in 10 classes.\n",
    "\n",
    "Galaxy10 dataset (17736 images):\n",
    "\n",
    "├── Class 0 (1081 images): Disturbed Galaxies\n",
    "\n",
    "├── Class 1 (1853 images): Merging Galaxies\n",
    "\n",
    "├── Class 2 (2645 images): Round Smooth Galaxies\n",
    "\n",
    "├── Class 3 (2027 images): In-between Round Smooth Galaxies\n",
    "\n",
    "├── Class 4 ( 334 images): Cigar Shaped Smooth Galaxies\n",
    "\n",
    "├── Class 5 (2043 images): Barred Spiral Galaxies\n",
    "\n",
    "├── Class 6 (1829 images): Unbarred Tight Spiral Galaxies\n",
    "\n",
    "├── Class 7 (2628 images): Unbarred Loose Spiral Galaxies\n",
    "\n",
    "├── Class 8 (1423 images): Edge-on Galaxies without Bulge\n",
    "\n",
    "└── Class 9 (1873 images): Edge-on Galaxies with Bulge\n",
    "\n",
    "We're going to use libraries h5py and tensorflow to extract and save the images and labels from the dataset to the numpy format."
   ]
  },
  {
   "cell_type": "code",
   "execution_count": 1,
   "id": "21358c02",
   "metadata": {},
   "outputs": [],
   "source": [
    "import h5py\n",
    "import numpy as np\n",
    "from tensorflow.keras import utils\n",
    "\n",
    "# To get the images and labels from file\n",
    "with h5py.File('Galaxy10_DECals.h5', 'r') as F:\n",
    "    images = np.array(F['images'])\n",
    "    labels = np.array(F['ans'])\n",
    "\n",
    "# To convert the labels to categorical 10 classes\n",
    "labels = utils.to_categorical(labels, 10)\n",
    "\n",
    "# To convert to desirable type\n",
    "labels = labels.astype(np.uint8)\n",
    "images = images.astype(np.uint8)\n",
    "\n",
    "# Save in numpy format\n",
    "np.save('G10_DECals_images.npy',images)\n",
    "np.save('G10_DECals_labels.npy',labels)"
   ]
  }
 ],
 "metadata": {
  "kernelspec": {
   "display_name": "Python 3 (ipykernel)",
   "language": "python",
   "name": "python3"
  },
  "language_info": {
   "codemirror_mode": {
    "name": "ipython",
    "version": 3
   },
   "file_extension": ".py",
   "mimetype": "text/x-python",
   "name": "python",
   "nbconvert_exporter": "python",
   "pygments_lexer": "ipython3",
   "version": "3.10.12"
  }
 },
 "nbformat": 4,
 "nbformat_minor": 5
}
